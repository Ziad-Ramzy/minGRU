{
 "cells": [
  {
   "cell_type": "code",
   "execution_count": 23,
   "metadata": {},
   "outputs": [
    {
     "data": {
      "text/plain": [
       "40000"
      ]
     },
     "execution_count": 23,
     "metadata": {},
     "output_type": "execute_result"
    }
   ],
   "source": [
    "# https://arxiv.org/abs/2410.01201\n",
    "# were RNNs All We Needed? \n",
    "\n",
    "from tqdm import tqdm\n",
    "import torch\n",
    "import tiktoken\n",
    "import urllib.request\n",
    "\n",
    "enc = tiktoken.get_encoding(\"gpt2\")\n",
    "url = 'https://raw.githubusercontent.com/karpathy/char-rnn/refs/heads/master/data/tinyshakespeare/input.txt'\n",
    "filename = 'shakespeare.txt'\n",
    "urllib.request.urlretrieve(url, filename)\n",
    "\n",
    "docs = open(\"shakespeare.txt\", \"r\").read().splitlines()\n",
    "len(docs)"
   ]
  },
  {
   "cell_type": "code",
   "execution_count": null,
   "metadata": {},
   "outputs": [
    {
     "name": "stdout",
     "output_type": "stream",
     "text": [
      "11387\n"
     ]
    }
   ],
   "source": [
    "tokens= set(enc.encode(\" \".join(docs)))\n",
    "tokens_ids = [int(i) for i in tokens]\n",
    "Vocab = {}\n",
    "\n",
    "for i in tokens_ids:\n",
    "    token = enc.decode([i])\n",
    "    Vocab[token] = i\n",
    "itos ={i:s for s,i in Vocab.items()}\n",
    "\n",
    "vocab_size = len(Vocab)\n",
    "print(vocab_size)\n"
   ]
  },
  {
   "cell_type": "code",
   "execution_count": 25,
   "metadata": {},
   "outputs": [
    {
     "name": "stdout",
     "output_type": "stream",
     "text": [
      "X shape: torch.Size([978353, 64]), Y shape: torch.Size([978353])\n",
      "X shape: torch.Size([95053, 64]), Y shape: torch.Size([95053])\n"
     ]
    }
   ],
   "source": [
    "block_size = 64 # context length: how many tokens do we take to predict the next one?\n",
    "\n",
    "def build_dataset(docs):  \n",
    "    X, Y = [], []\n",
    "  \n",
    "    for doc in docs:\n",
    "        context = [0] * block_size\n",
    "        for token in doc:\n",
    "            ix = Vocab.get(token)\n",
    "            if ix is None:\n",
    "                continue  # skip token if it's not in the vocabulary\n",
    "            X.append(context)\n",
    "            Y.append(ix)\n",
    "            context = context[1:] + [ix]  # crop and append\n",
    "\n",
    "    X = torch.tensor(X, dtype=torch.long)\n",
    "    Y = torch.tensor(Y, dtype=torch.long)\n",
    "    print(f\"X shape: {X.shape}, Y shape: {Y.shape}\")\n",
    "    return X, Y\n",
    "\n",
    "n = int(len(docs) * 0.9)\n",
    "Xtr, Ytr = build_dataset(docs[:n])\n",
    "Xte, Yte = build_dataset(docs[n:])"
   ]
  },
  {
   "cell_type": "code",
   "execution_count": 26,
   "metadata": {},
   "outputs": [
    {
     "name": "stdout",
     "output_type": "stream",
     "text": [
      "Total number of parameters: 3501129\n"
     ]
    }
   ],
   "source": [
    "n_embd = 10\n",
    "hidden_size = 256\n",
    "block_size = 64\n",
    "batch_size = 32 \n",
    "\n",
    "g = torch.Generator().manual_seed(983245) # for reproducibility\n",
    "C = torch.randn((vocab_size, n_embd),                   generator=g)\n",
    "# Parameters for the first minGRU layer\n",
    "Zt1_W  = torch.randn((block_size * n_embd, hidden_size), generator=g) * (1)/((block_size * n_embd)**0.5)\n",
    "Zt1_B  = torch.randn (hidden_size                      , generator=g) * 0 \n",
    "Ht1_W  = torch.randn((block_size * n_embd, hidden_size), generator=g) * (1)/((block_size * n_embd)**0.5)\n",
    "Ht1_B  = torch.randn(hidden_size                       , generator=g) * 0\n",
    "\n",
    "# Parameters for the second min GRU layer\n",
    "Zt2_W = torch.randn((hidden_size, hidden_size),         generator=g) * (1)/((hidden_size)**0.5) # input-to-gate\n",
    "Zt2_B = torch.randn(hidden_size,                        generator=g) * 0\n",
    "Ht2_W = torch.randn((hidden_size, hidden_size),         generator=g) * (1)/((hidden_size)**0.5) # input-to-candidate\n",
    "Ht2_B = torch.randn(hidden_size,                        generator=g) * 0\n",
    "W     = torch.randn((hidden_size, vocab_size),          generator=g) * 0.01\n",
    "B     = torch.randn(vocab_size) * 0\n",
    "\n",
    "\n",
    "# BatchNorm parameters\n",
    "bngain = torch.ones((1, hidden_size))\n",
    "bnbias = torch.zeros((1, hidden_size))\n",
    "bnmean_running = torch.zeros((1, hidden_size))\n",
    "bnstd_running = torch.ones((1, hidden_size))\n",
    "\n",
    "bngain2 = torch.ones((1, hidden_size))\n",
    "bnbias2 = torch.zeros((1, hidden_size))\n",
    "bnmean_running2 = torch.zeros((1, hidden_size))\n",
    "bnstd_running2 = torch.ones((1, hidden_size))\n",
    "\n",
    "parameters = [C, Zt1_W, Zt1_B, Ht1_W, Ht1_B, Zt2_W, Zt2_B, Ht2_W, Ht2_B, W, B, bngain, bnbias, bngain2, bnbias2]\n",
    "print(f\"Total number of parameters: {sum(p.nelement() for p in parameters)}\") # number of parameters in total\n",
    "for p in parameters:\n",
    "  p.requires_grad = True\n",
    "\n",
    "\n"
   ]
  },
  {
   "cell_type": "code",
   "execution_count": 27,
   "metadata": {},
   "outputs": [
    {
     "name": "stderr",
     "output_type": "stream",
     "text": [
      "Training Progress:   0%|          | 4/200000 [00:00<5:14:34, 10.60 steps/s] "
     ]
    },
    {
     "name": "stdout",
     "output_type": "stream",
     "text": [
      "Step 0, Loss: 9.33500862121582\n"
     ]
    },
    {
     "name": "stderr",
     "output_type": "stream",
     "text": [
      "Training Progress:   3%|▎         | 5013/200000 [01:17<48:06, 67.55 steps/s]  "
     ]
    },
    {
     "name": "stdout",
     "output_type": "stream",
     "text": [
      "Step 5000, Loss: 2.1451380252838135\n"
     ]
    },
    {
     "name": "stderr",
     "output_type": "stream",
     "text": [
      "Training Progress:   5%|▌         | 10008/200000 [02:56<49:51, 63.52 steps/s] "
     ]
    },
    {
     "name": "stdout",
     "output_type": "stream",
     "text": [
      "Step 10000, Loss: 1.7346588373184204\n"
     ]
    },
    {
     "name": "stderr",
     "output_type": "stream",
     "text": [
      "Training Progress:   8%|▊         | 15007/200000 [04:39<54:48, 56.26 steps/s]  "
     ]
    },
    {
     "name": "stdout",
     "output_type": "stream",
     "text": [
      "Step 15000, Loss: 1.464119553565979\n"
     ]
    },
    {
     "name": "stderr",
     "output_type": "stream",
     "text": [
      "Training Progress:  10%|█         | 20011/200000 [06:02<49:04, 61.12 steps/s]  "
     ]
    },
    {
     "name": "stdout",
     "output_type": "stream",
     "text": [
      "Step 20000, Loss: 2.1823103427886963\n"
     ]
    },
    {
     "name": "stderr",
     "output_type": "stream",
     "text": [
      "Training Progress:  13%|█▎        | 25005/200000 [07:24<1:09:21, 42.06 steps/s]"
     ]
    },
    {
     "name": "stdout",
     "output_type": "stream",
     "text": [
      "Step 25000, Loss: 1.5935108661651611\n"
     ]
    },
    {
     "name": "stderr",
     "output_type": "stream",
     "text": [
      "Training Progress:  15%|█▌        | 30014/200000 [08:41<37:51, 74.84 steps/s]  "
     ]
    },
    {
     "name": "stdout",
     "output_type": "stream",
     "text": [
      "Step 30000, Loss: 1.4746524095535278\n"
     ]
    },
    {
     "name": "stderr",
     "output_type": "stream",
     "text": [
      "Training Progress:  18%|█▊        | 35008/200000 [09:59<47:10, 58.29 steps/s]  "
     ]
    },
    {
     "name": "stdout",
     "output_type": "stream",
     "text": [
      "Step 35000, Loss: 1.3238582611083984\n"
     ]
    },
    {
     "name": "stderr",
     "output_type": "stream",
     "text": [
      "Training Progress:  20%|██        | 40008/200000 [11:20<1:09:32, 38.34 steps/s]"
     ]
    },
    {
     "name": "stdout",
     "output_type": "stream",
     "text": [
      "Step 40000, Loss: 2.0624313354492188\n"
     ]
    },
    {
     "name": "stderr",
     "output_type": "stream",
     "text": [
      "Training Progress:  23%|██▎       | 45012/200000 [12:41<37:25, 69.01 steps/s]  "
     ]
    },
    {
     "name": "stdout",
     "output_type": "stream",
     "text": [
      "Step 45000, Loss: 1.115250825881958\n"
     ]
    },
    {
     "name": "stderr",
     "output_type": "stream",
     "text": [
      "Training Progress:  25%|██▌       | 50011/200000 [13:59<34:53, 71.65 steps/s]  "
     ]
    },
    {
     "name": "stdout",
     "output_type": "stream",
     "text": [
      "Step 50000, Loss: 1.4705991744995117\n"
     ]
    },
    {
     "name": "stderr",
     "output_type": "stream",
     "text": [
      "Training Progress:  28%|██▊       | 55013/200000 [15:17<36:55, 65.46 steps/s]  "
     ]
    },
    {
     "name": "stdout",
     "output_type": "stream",
     "text": [
      "Step 55000, Loss: 1.5026473999023438\n"
     ]
    },
    {
     "name": "stderr",
     "output_type": "stream",
     "text": [
      "Training Progress:  30%|███       | 60010/200000 [16:46<39:55, 58.43 steps/s]  "
     ]
    },
    {
     "name": "stdout",
     "output_type": "stream",
     "text": [
      "Step 60000, Loss: 1.2411000728607178\n"
     ]
    },
    {
     "name": "stderr",
     "output_type": "stream",
     "text": [
      "Training Progress:  33%|███▎      | 65010/200000 [18:11<34:25, 65.35 steps/s]  "
     ]
    },
    {
     "name": "stdout",
     "output_type": "stream",
     "text": [
      "Step 65000, Loss: 1.2024791240692139\n"
     ]
    },
    {
     "name": "stderr",
     "output_type": "stream",
     "text": [
      "Training Progress:  35%|███▌      | 70012/200000 [19:30<33:55, 63.88 steps/s]"
     ]
    },
    {
     "name": "stdout",
     "output_type": "stream",
     "text": [
      "Step 70000, Loss: 1.5710220336914062\n"
     ]
    },
    {
     "name": "stderr",
     "output_type": "stream",
     "text": [
      "Training Progress:  38%|███▊      | 75011/200000 [20:54<35:29, 58.69 steps/s]  "
     ]
    },
    {
     "name": "stdout",
     "output_type": "stream",
     "text": [
      "Step 75000, Loss: 1.961722731590271\n"
     ]
    },
    {
     "name": "stderr",
     "output_type": "stream",
     "text": [
      "Training Progress:  40%|████      | 80007/200000 [22:17<32:33, 61.43 steps/s]  "
     ]
    },
    {
     "name": "stdout",
     "output_type": "stream",
     "text": [
      "Step 80000, Loss: 1.356242060661316\n"
     ]
    },
    {
     "name": "stderr",
     "output_type": "stream",
     "text": [
      "Training Progress:  43%|████▎     | 85011/200000 [23:59<30:05, 63.69 steps/s]  "
     ]
    },
    {
     "name": "stdout",
     "output_type": "stream",
     "text": [
      "Step 85000, Loss: 1.6090885400772095\n"
     ]
    },
    {
     "name": "stderr",
     "output_type": "stream",
     "text": [
      "Training Progress:  45%|████▌     | 90011/200000 [25:37<31:28, 58.23 steps/s]  "
     ]
    },
    {
     "name": "stdout",
     "output_type": "stream",
     "text": [
      "Step 90000, Loss: 1.305763602256775\n"
     ]
    },
    {
     "name": "stderr",
     "output_type": "stream",
     "text": [
      "Training Progress:  48%|████▊     | 95008/200000 [27:04<26:50, 65.20 steps/s]  "
     ]
    },
    {
     "name": "stdout",
     "output_type": "stream",
     "text": [
      "Step 95000, Loss: 1.2014031410217285\n"
     ]
    },
    {
     "name": "stderr",
     "output_type": "stream",
     "text": [
      "Training Progress:  50%|█████     | 100015/200000 [28:28<24:04, 69.20 steps/s] "
     ]
    },
    {
     "name": "stdout",
     "output_type": "stream",
     "text": [
      "Step 100000, Loss: 1.7710658311843872\n"
     ]
    },
    {
     "name": "stderr",
     "output_type": "stream",
     "text": [
      "Training Progress:  53%|█████▎    | 105004/200000 [29:55<22:46, 69.52 steps/s]  "
     ]
    },
    {
     "name": "stdout",
     "output_type": "stream",
     "text": [
      "Step 105000, Loss: 1.6780093908309937\n"
     ]
    },
    {
     "name": "stderr",
     "output_type": "stream",
     "text": [
      "Training Progress:  55%|█████▌    | 110009/200000 [31:33<32:57, 45.52 steps/s]  "
     ]
    },
    {
     "name": "stdout",
     "output_type": "stream",
     "text": [
      "Step 110000, Loss: 1.7410495281219482\n"
     ]
    },
    {
     "name": "stderr",
     "output_type": "stream",
     "text": [
      "Training Progress:  58%|█████▊    | 115007/200000 [33:18<39:55, 35.47 steps/s]  "
     ]
    },
    {
     "name": "stdout",
     "output_type": "stream",
     "text": [
      "Step 115000, Loss: 1.3741750717163086\n"
     ]
    },
    {
     "name": "stderr",
     "output_type": "stream",
     "text": [
      "Training Progress:  60%|██████    | 120012/200000 [35:11<22:38, 58.86 steps/s]  "
     ]
    },
    {
     "name": "stdout",
     "output_type": "stream",
     "text": [
      "Step 120000, Loss: 1.6957706212997437\n"
     ]
    },
    {
     "name": "stderr",
     "output_type": "stream",
     "text": [
      "Training Progress:  63%|██████▎   | 125010/200000 [36:35<17:54, 69.80 steps/s]"
     ]
    },
    {
     "name": "stdout",
     "output_type": "stream",
     "text": [
      "Step 125000, Loss: 1.5061968564987183\n"
     ]
    },
    {
     "name": "stderr",
     "output_type": "stream",
     "text": [
      "Training Progress:  65%|██████▌   | 130003/200000 [38:04<24:25, 47.75 steps/s]"
     ]
    },
    {
     "name": "stdout",
     "output_type": "stream",
     "text": [
      "Step 130000, Loss: 1.4279067516326904\n"
     ]
    },
    {
     "name": "stderr",
     "output_type": "stream",
     "text": [
      "Training Progress:  68%|██████▊   | 135010/200000 [39:39<20:02, 54.04 steps/s]"
     ]
    },
    {
     "name": "stdout",
     "output_type": "stream",
     "text": [
      "Step 135000, Loss: 1.4443155527114868\n"
     ]
    },
    {
     "name": "stderr",
     "output_type": "stream",
     "text": [
      "Training Progress:  70%|███████   | 140009/200000 [41:17<16:16, 61.43 steps/s]"
     ]
    },
    {
     "name": "stdout",
     "output_type": "stream",
     "text": [
      "Step 140000, Loss: 1.4197590351104736\n"
     ]
    },
    {
     "name": "stderr",
     "output_type": "stream",
     "text": [
      "Training Progress:  73%|███████▎  | 145009/200000 [42:51<16:10, 56.67 steps/s]"
     ]
    },
    {
     "name": "stdout",
     "output_type": "stream",
     "text": [
      "Step 145000, Loss: 1.393819808959961\n"
     ]
    },
    {
     "name": "stderr",
     "output_type": "stream",
     "text": [
      "Training Progress:  75%|███████▌  | 150007/200000 [44:35<20:25, 40.80 steps/s]  "
     ]
    },
    {
     "name": "stdout",
     "output_type": "stream",
     "text": [
      "Step 150000, Loss: 1.3347065448760986\n"
     ]
    },
    {
     "name": "stderr",
     "output_type": "stream",
     "text": [
      "Training Progress:  78%|███████▊  | 155009/200000 [46:07<13:39, 54.92 steps/s]"
     ]
    },
    {
     "name": "stdout",
     "output_type": "stream",
     "text": [
      "Step 155000, Loss: 1.4302613735198975\n"
     ]
    },
    {
     "name": "stderr",
     "output_type": "stream",
     "text": [
      "Training Progress:  80%|████████  | 160012/200000 [47:41<15:24, 43.27 steps/s]"
     ]
    },
    {
     "name": "stdout",
     "output_type": "stream",
     "text": [
      "Step 160000, Loss: 1.1668381690979004\n"
     ]
    },
    {
     "name": "stderr",
     "output_type": "stream",
     "text": [
      "Training Progress:  83%|████████▎ | 165010/200000 [48:57<08:20, 69.92 steps/s]"
     ]
    },
    {
     "name": "stdout",
     "output_type": "stream",
     "text": [
      "Step 165000, Loss: 1.2690248489379883\n"
     ]
    },
    {
     "name": "stderr",
     "output_type": "stream",
     "text": [
      "Training Progress:  85%|████████▌ | 170008/200000 [50:11<07:20, 68.11 steps/s]"
     ]
    },
    {
     "name": "stdout",
     "output_type": "stream",
     "text": [
      "Step 170000, Loss: 1.1797893047332764\n"
     ]
    },
    {
     "name": "stderr",
     "output_type": "stream",
     "text": [
      "Training Progress:  88%|████████▊ | 175010/200000 [51:24<05:53, 70.64 steps/s]"
     ]
    },
    {
     "name": "stdout",
     "output_type": "stream",
     "text": [
      "Step 175000, Loss: 1.3875898122787476\n"
     ]
    },
    {
     "name": "stderr",
     "output_type": "stream",
     "text": [
      "Training Progress:  90%|█████████ | 180010/200000 [52:38<04:48, 69.27 steps/s]"
     ]
    },
    {
     "name": "stdout",
     "output_type": "stream",
     "text": [
      "Step 180000, Loss: 1.429744839668274\n"
     ]
    },
    {
     "name": "stderr",
     "output_type": "stream",
     "text": [
      "Training Progress:  93%|█████████▎| 185012/200000 [53:52<03:30, 71.30 steps/s]"
     ]
    },
    {
     "name": "stdout",
     "output_type": "stream",
     "text": [
      "Step 185000, Loss: 1.270566701889038\n"
     ]
    },
    {
     "name": "stderr",
     "output_type": "stream",
     "text": [
      "Training Progress:  95%|█████████▌| 190008/200000 [55:05<02:27, 67.94 steps/s]"
     ]
    },
    {
     "name": "stdout",
     "output_type": "stream",
     "text": [
      "Step 190000, Loss: 1.4654666185379028\n"
     ]
    },
    {
     "name": "stderr",
     "output_type": "stream",
     "text": [
      "Training Progress:  98%|█████████▊| 195012/200000 [56:18<01:12, 69.03 steps/s]"
     ]
    },
    {
     "name": "stdout",
     "output_type": "stream",
     "text": [
      "Step 195000, Loss: 1.3913280963897705\n"
     ]
    },
    {
     "name": "stderr",
     "output_type": "stream",
     "text": [
      "Training Progress: 100%|██████████| 200000/200000 [57:27<00:00, 58.01 steps/s]"
     ]
    },
    {
     "name": "stdout",
     "output_type": "stream",
     "text": [
      "Final Loss: 1.414941668510437\n"
     ]
    },
    {
     "name": "stderr",
     "output_type": "stream",
     "text": [
      "\n"
     ]
    }
   ],
   "source": [
    "max_steps = 200000\n",
    "lossi = []\n",
    "\n",
    "loss_fn = torch.nn.CrossEntropyLoss()\n",
    "# x_t: (batch_size, input_size)\n",
    "# h_prev: (batch_size, hidden_size)\n",
    "for step in tqdm(range(max_steps), desc='Training Progress', unit=' steps'):\n",
    "    minibatch = torch.randint(0, Xtr.shape[0], (batch_size,), generator=g)\n",
    "    Xb, Yb = Xtr[minibatch], Ytr[minibatch]\n",
    "    emb = C[Xb]\n",
    "    embcat = emb.view(emb.shape[0], -1)\n",
    "    Ztpreact = embcat @ Zt1_W + Zt1_B\n",
    "    Htilde = embcat @ Ht1_W + Ht1_B \n",
    "\n",
    "    bnmeani = Ztpreact.mean(0, keepdim=True)\n",
    "    bnstdi = Ztpreact.std(0, keepdim=True)\n",
    "    Ztpreact = bngain * (Ztpreact - bnmeani) / bnstdi + bnbias\n",
    "    with torch.no_grad():\n",
    "        bnmean_running = 0.999 * bnmean_running + 0.001 * bnmeani\n",
    "        bnstd_running = 0.999 * bnstd_running + 0.001 * bnstdi \n",
    "        \n",
    "    Zt =  torch.sigmoid(Ztpreact) \n",
    "    H1_t = (1-Zt) * torch.zeros_like(Zt) + Zt * Htilde # first hidden state | output from the first minGRU layer\n",
    "    \n",
    "    # second layer\n",
    "    Ztpreact2 = H1_t @ Zt2_W + Zt2_B\n",
    "    \n",
    "    bnmeani2 = Ztpreact.mean(0, keepdim=True)\n",
    "    bnstdi2 = Ztpreact.std(0, keepdim=True)\n",
    "    Ztpreact2 = bngain2 * (Ztpreact2 - bnmeani2) / bnstdi2 + bnbias2\n",
    "    with torch.no_grad():\n",
    "        bnmean_running2 = 0.999 * bnmean_running2 + 0.001 * bnmeani2\n",
    "        bnstd_running2 = 0.999 * bnstd_running2 + 0.001 * bnstdi2\n",
    "\n",
    "    Zt2 = torch.sigmoid(Ztpreact2)\n",
    "    Htilde2 = H1_t @ Ht2_W + Ht2_B\n",
    "    H2_t = (1 - Zt2) * H1_t + Zt2 * Htilde2\n",
    "    \n",
    "    # linear layer  \n",
    "    outputs = H2_t @ W + B \n",
    "    loss = loss_fn(outputs.view(-1, vocab_size), Yb)\n",
    "\n",
    "    for p in parameters:\n",
    "        p.grad = None\n",
    "    loss.backward()\n",
    "\n",
    "    lr = 0.1 if step < 50000 else 0.01\n",
    "    for p in parameters:\n",
    "        p.data += -lr * p.grad\n",
    "\n",
    "    if step % 5000 == 0:\n",
    "        tqdm.write(f'Step {step}, Loss: {loss.item()}')\n",
    "    if step % 1000 == 0:\n",
    "        lossi.append(loss.item())\n",
    "\n",
    "print(f\"Final Loss: {lossi[-1]}\")\n"
   ]
  },
  {
   "cell_type": "code",
   "execution_count": 28,
   "metadata": {},
   "outputs": [
    {
     "data": {
      "image/png": "[encoded data removed]",
      "text/plain": [
       "<Figure size 1200x600 with 1 Axes>"
      ]
     },
     "metadata": {},
     "output_type": "display_data"
    }
   ],
   "source": [
    "import matplotlib.pyplot as plt\n",
    "\n",
    "\n",
    "\n",
    "steps = list(range(0, len(lossi) * 1000, 1000))  # Assuming loss is recorded every 1000 steps\n",
    "\n",
    "# Create the plot\n",
    "plt.figure(figsize=(12, 6))\n",
    "plt.plot(steps, lossi, marker='o', color='b', linestyle='-', markersize=5)\n",
    "plt.title('Training Loss every 1000 Steps', fontsize=16)\n",
    "plt.xlabel('Training Steps', fontsize=14)\n",
    "plt.ylabel('Loss', fontsize=14)\n",
    "plt.xlim(0, max(steps))\n",
    "plt.ylim(-1, max(lossi) + 1)\n",
    "plt.grid(True)\n",
    "plt.xticks(fontsize=12)\n",
    "plt.yticks(fontsize=12)\n",
    "plt.axhline(y=min(lossi), color='r', linestyle='--', label='Minimum Loss')\n",
    "plt.legend(fontsize=12)\n",
    "plt.show() "
   ]
  },
  {
   "cell_type": "code",
   "execution_count": 29,
   "metadata": {},
   "outputs": [
    {
     "name": "stdout",
     "output_type": "stream",
     "text": [
      "Test Loss: 1.8353070663409043\n"
     ]
    }
   ],
   "source": [
    "with torch.no_grad():\n",
    "    testLoss = 0.0\n",
    "    correct_predictions = 0  # For tracking correct next word predictions\n",
    "\n",
    "    for i in range(0, Xte.shape[0]):\n",
    "        x, y = Xte[i].unsqueeze(0), Yte[i].unsqueeze(0)\n",
    "        if (x >= vocab_size).any():  # If there are any invalid tokens\n",
    "            print(f\"Skipping example {i} due to out-of-vocabulary tokens.\")\n",
    "            continue\n",
    "        emb = C[x]\n",
    "        embcat = emb.view(emb.shape[0], -1)\n",
    "        Ztpreact = embcat @ Zt1_W + Zt1_B\n",
    "        Htilde = embcat @ Ht1_W + Ht1_B\n",
    "        Ztpreact = bngain * (Ztpreact - bnmeani) / bnstdi + bnbias\n",
    "        Zt = torch.sigmoid(Ztpreact)\n",
    "        H1_t = (1 - Zt) * torch.zeros_like(Zt) + Zt * Htilde\n",
    "        Ztpreact2 = H1_t @ Zt2_W + Zt2_B\n",
    "        Htilde2 = H1_t @ Ht2_W + Ht2_B\n",
    "        Ztpreact2 = bngain2 * (Ztpreact2 - bnmeani2) / bnstdi2 + bnbias2\n",
    "        Zt2 = torch.sigmoid(Ztpreact2)\n",
    "        H2_t = (1 - Zt2) * H1_t + Zt2 * Htilde2\n",
    "        output = H2_t @ W + B  # Output logits\n",
    "\n",
    "        # logits to probabilities \n",
    "        probs = torch.nn.functional.softmax(output, dim=-1)\n",
    "        _, predicted_next_word = torch.max(probs, dim=1)\n",
    "        loss_fn = torch.nn.CrossEntropyLoss()\n",
    "        loss = loss_fn(output.view(-1, vocab_size), y)\n",
    "\n",
    "        testLoss += loss.item()\n",
    "\n",
    "    average_loss = testLoss / Xte.shape[0]\n",
    "\n",
    "    print(f\"Test Loss: {average_loss}\")\n"
   ]
  },
  {
   "cell_type": "code",
   "execution_count": null,
   "metadata": {},
   "outputs": [
    {
     "name": "stdout",
     "output_type": "stream",
     "text": [
      "Generated Example 0: RUTLAND:BY: I will Edward's and mouth apousin's frow? Doods. Offends. Murs. Cumiz--not receld. Bumintaged on<UNK>. God fay's,--would I say, at Apronl!\n",
      "Generated Example 1: As too love be; Ifare 'Theseen an the eart; and, to her Ritcless place mother's Come. You,--<UNK>on,, Coring-gor-enjy. I teld:--help? I'lly? I: Rornicked years. Oxp AUEd:a: a whillison!\n",
      "Generated Example 2: Catest have so her more of days. Unmens' there, not beginger and browel thenother; I will. Forse: exmarn onfonges. Gears, angeemen; anring--forb'd se's be ship, wing. MEWLLO:: by CONDCY: G<UNK>UNCY: buiNe Cauuler Gordeath; gardy. Do; comalth. I say-too; non. I kneeth. Edward's Kittll. I; young.s'?,n. I:eselt<UNK>er; I fould:--Iet. Margetia;flengr endeed. Beant. Tendgueser; I'll be rone..' the vall fixtr<UNK><UNK>gour bandsal.e: but foest Doush'd. DousyagonidingHord. Goducie!\n",
      "Generated Example 3: Hour hand spurse thy vour I will ne with sleep branking.re, sick, by lay hers<UNK>? BupitBed, I fay, be?<UNK>e<UNK>ce weep: her Ided. Sic: Aw'y fanch.s prince: then? use ford of partogreyer,--I ronnoth. I--deserved  gangand weelp? Inam; and; I'll; so.. But conspe<UNK>tox enough., Bousand, Were ushou have beaudy, off: nonge. God, keepen's lifts herdon, Warrsabnsuspose, Lud acking: itselfsself, that hat!\n",
      "Generated Example 4: Will The provones, or thy partet of but ofe;t's go?d. O, gord:--I promed gentlemen? I him: indness, Klack's feel nonged; whold We waENCUEY: I:a<UNK>!\n",
      "Generated Example 5: Go so:--I joyful, not say toth ina, my lest,--hould yours? Krontance; hise wilther. Coming: that's he e<UNK>EGLAY: y!\n",
      "Generated Example 6: Spend'st for the so., wid wounds farewell. Madus, you. Welt dears? I; y Steu!\n",
      "Generated Example 7: AUFIDIUS: I make the dehil serves changs rigues. Gentlenough., blsoke poice; ' t adventurere!\n",
      "Generated Example 8: DUKE INCENTIO:: gead wand my servantward with lige; prase. Mancest, loss, pnote. Godse; I disple officerUnI; you. But!\n",
      "Generated Example 9: Too morse whither with on God forth rost, but founds, pown,. PERDONE: OxSGREETOL:: yough confidentlondest!\n",
      "Generated Example 10: My for wither I gestand's suffice fore; sence, I well ather sharp. Ter, Murds of vinsed ling.res: Gearingo, 'm loving'd beaven hat?--rone. M retirementbats, I prizedrned Gou, juCly: Igners: my langer foult to more. Darl; your bates ling?'nce, your hears!\n",
      "Generated Example 11: I have time of the king of this better, than grow. What I place Deem loved heaven; ' wifon; you? DUt's each lizing: fing HENRY BONALEO:::endesteen. Co<UNK>lix:'st tonguest Goldly., youry. Edse;sign. SCAMENEs celed!\n",
      "Generated Example 12: And condug thee!\n",
      "Generated Example 13: Thought standica ulst? Mancius promaging Gives frokn: and placunsi privileius. Cance: I'll greather. Spreat weepuse. Bua, behave? pring; back you; alser's, bolingbryant, that he drunk. Tell'I. I becom offled<UNK>d: isuse agal. Forge;:e you. Lordinself, I, wifted fouldes use; I him.'--ircnr. Cot!\n",
      "Generated Example 14: Second Cloodier.' lutser's blood. Phow so this: is fail;-shores. Phear'steth Ronce.' that: Kanguich we, pastait: Cimpaside. Forizul: time; witn, le? To-broon:--hates. Truiton's viil. What me;'s younger. Marce?, KATAMANER:s: Oour Grexpy<UNK>t to plaviest Mobl!\n",
      "Generated Example 15: Plouth your grumper doom ucuour,'s not werk comatice,--I could knowly drue? hold. Your dendame, Montry kneed; I'll connead<UNK>-butch.ly. OX HEdzle!\n",
      "Generated Example 16: As theme fearful. Then shave have perceive? me there comers' ague. Mance, well-<UNK>oonger me.. I.es!\n",
      "Generated Example 17: Here them low!\n",
      "Generated Example 18: Was son't presence and the worression that we pestaitiz of yous stake you? Kate, were. Thy us<UNK>--pate to ta robmy lature. To Catuld. LOEDNAL:: yough; I, Henry? KIUGHADAOPSA, GRich gay, fatherland, bor Gonsest? Dough; with all the moodful thir nighs. There. Wakn a chily. MEASIO: crey<UNK>ry I jo secureerce: and Mirs--a fixown, hathers. Come;t, bondon.es. Ter I'lly An wight me well-gonde'd. Comfort; I will. Is bannot<UNK>!\n",
      "Generated Example 19: How Ixack him ackeep Mow when brother, butched. Stiour honour, I'll wafe; you, Creen!\n"
     ]
    }
   ],
   "source": [
    "UNK_TOKEN = '<UNK>' \n",
    "\n",
    "for i in range(20):  \n",
    "    out = [] \n",
    "    context = [0] * block_size  \n",
    "\n",
    "    while True:\n",
    "        emb = C[torch.tensor(context)]\n",
    "        embcat = emb.view(1, -1)\n",
    "        Ztpreact = embcat @ Zt1_W + Zt1_B\n",
    "        Htilde = embcat @ Ht1_W + Ht1_B\n",
    "        Zt = torch.sigmoid(Ztpreact)\n",
    "        H1_t = (1 - Zt) * torch.zeros_like(Zt) + Zt * Htilde\n",
    "        Ztpreact2 = H1_t @ Zt2_W + Zt2_B\n",
    "        Htilde2 = H1_t @ Ht2_W + Ht2_B\n",
    "        Zt2 = torch.sigmoid(Ztpreact2)\n",
    "        H2_t = (1 - Zt2) * H1_t + Zt2 * Htilde2\n",
    "        output = H2_t @ W + B\n",
    "        probs = torch.nn.functional.softmax(output, dim=1)\n",
    "        # Sample from the distribution\n",
    "        ix = torch.multinomial(probs, num_samples=1).item()\n",
    "        context = context[1:] + [ix]\n",
    "        out.append(ix)\n",
    "\n",
    "        if ix == 0:\n",
    "            break\n",
    "    decoded_output = ''.join(itos[i] if i in itos.keys() else UNK_TOKEN for i in out)\n",
    "    print(f\"Generated Example {i}: {decoded_output}\")"
   ]
  },
  {
   "cell_type": "code",
   "execution_count": null,
   "metadata": {},
   "outputs": [],
   "source": []
  }
 ],
 "metadata": {
  "kernelspec": {
   "display_name": "Python 3",
   "language": "python",
   "name": "python3"
  },
  "language_info": {
   "codemirror_mode": {
    "name": "ipython",
    "version": 3
   },
   "file_extension": ".py",
   "mimetype": "text/x-python",
   "name": "python",
   "nbconvert_exporter": "python",
   "pygments_lexer": "ipython3",
   "version": "3.12.4"
  }
 },
 "nbformat": 4,
 "nbformat_minor": 4
}
