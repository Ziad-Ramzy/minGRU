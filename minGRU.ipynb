{
 "cells": [
  {
   "cell_type": "code",
   "execution_count": null,
   "metadata": {},
   "outputs": [
    {
     "data": {
      "text/plain": [
       "40000"
      ]
     },
     "execution_count": 3,
     "metadata": {},
     "output_type": "execute_result"
    }
   ],
   "source": [
    "# https://arxiv.org/abs/2410.01201\n",
    "# were RNNs All We Needed? \n",
    "\n",
    "from tqdm import tqdm\n",
    "import torch\n",
    "import tiktoken\n",
    "import urllib.request\n",
    "\n",
    "enc = tiktoken.get_encoding(\"gpt2\")\n",
    "url = 'https://raw.githubusercontent.com/karpathy/char-rnn/refs/heads/master/data/tinyshakespeare/input.txt'\n",
    "filename = 'shakespeare.txt'\n",
    "urllib.request.urlretrieve(url, filename)\n",
    "\n",
    "docs = open(\"shakespeare.txt\", \"r\").read().splitlines()\n",
    "len(docs)"
   ]
  },
  {
   "cell_type": "code",
   "execution_count": 4,
   "metadata": {},
   "outputs": [
    {
     "name": "stdout",
     "output_type": "stream",
     "text": [
      "11387\n"
     ]
    }
   ],
   "source": [
    "tokens= set(enc.encode(\" \".join(docs)))\n",
    "tokens_ids = [int(i) for i in tokens]\n",
    "Vocab = {}\n",
    "for i in tokens_ids:\n",
    "    token = enc.decode([i])\n",
    "    Vocab[token] = i\n",
    "vocab_size = len(Vocab)\n",
    "print(vocab_size)\n"
   ]
  },
  {
   "cell_type": "code",
   "execution_count": 5,
   "metadata": {},
   "outputs": [
    {
     "name": "stdout",
     "output_type": "stream",
     "text": [
      "X shape: torch.Size([978353, 64]), Y shape: torch.Size([978353])\n",
      "X shape: torch.Size([95053, 64]), Y shape: torch.Size([95053])\n"
     ]
    }
   ],
   "source": [
    "block_size = 64 # context length: how many tokens do we take to predict the next one?\n",
    "\n",
    "def build_dataset(docs):  \n",
    "    X, Y = [], []\n",
    "  \n",
    "    for doc in docs:\n",
    "        context = [0] * block_size\n",
    "        for token in doc:\n",
    "            ix = Vocab.get(token)\n",
    "            if ix is None:\n",
    "                continue  # skip token if it's not in the vocabulary\n",
    "            X.append(context)\n",
    "            Y.append(ix)\n",
    "            context = context[1:] + [ix]  # crop and append\n",
    "\n",
    "    X = torch.tensor(X, dtype=torch.long)\n",
    "    Y = torch.tensor(Y, dtype=torch.long)\n",
    "    print(f\"X shape: {X.shape}, Y shape: {Y.shape}\")\n",
    "    return X, Y\n",
    "\n",
    "n = int(len(docs) * 0.9)\n",
    "Xtr, Ytr = build_dataset(docs[:n])\n",
    "Xte, Yte = build_dataset(docs[n:])"
   ]
  },
  {
   "cell_type": "code",
   "execution_count": null,
   "metadata": {},
   "outputs": [
    {
     "name": "stdout",
     "output_type": "stream",
     "text": [
      "Total number of parameters: 3501129\n"
     ]
    }
   ],
   "source": [
    "n_embd = 10\n",
    "hidden_size = 256\n",
    "block_size = 64\n",
    "batch_size = 32 \n",
    "\n",
    "g = torch.Generator().manual_seed(983245) # for reproducibility\n",
    "C = torch.randn((vocab_size, n_embd),                   generator=g)\n",
    "# Parameters for the first minGRU layer\n",
    "Zt1_W  = torch.randn((block_size * n_embd, hidden_size), generator=g) * (1)/((block_size * n_embd)**0.5)\n",
    "Zt1_B  = torch.randn (hidden_size                      , generator=g) * 0 \n",
    "Ht1_W  = torch.randn((block_size * n_embd, hidden_size), generator=g) * (1)/((block_size * n_embd)**0.5)\n",
    "Ht1_B  = torch.randn(hidden_size                       , generator=g) * 0\n",
    "\n",
    "# Parameters for the second min GRU layer\n",
    "Zt2_W = torch.randn((hidden_size, hidden_size),         generator=g) * (1)/((hidden_size)**0.5) # input-to-gate\n",
    "Zt2_B = torch.randn(hidden_size,                        generator=g) * 0\n",
    "Ht2_W = torch.randn((hidden_size, hidden_size),         generator=g) * (1)/((hidden_size)**0.5) # input-to-candidate\n",
    "Ht2_B = torch.randn(hidden_size,                        generator=g) * 0\n",
    "W     = torch.randn((hidden_size, vocab_size),          generator=g) * 0.01\n",
    "B     = torch.randn(vocab_size) * 0\n",
    "\n",
    "\n",
    "# BatchNorm parameters\n",
    "bngain = torch.ones((1, hidden_size))\n",
    "bnbias = torch.zeros((1, hidden_size))\n",
    "bnmean_running = torch.zeros((1, hidden_size))\n",
    "bnstd_running = torch.ones((1, hidden_size))\n",
    "\n",
    "bngain2 = torch.ones((1, hidden_size))\n",
    "bnbias2 = torch.zeros((1, hidden_size))\n",
    "bnmean_running2 = torch.zeros((1, hidden_size))\n",
    "bnstd_running2 = torch.ones((1, hidden_size))\n",
    "\n",
    "parameters = [C, Zt1_W, Zt1_B, Ht1_W, Ht1_B, Zt2_W, Zt2_B, Ht2_W, Ht2_B, W, B, bngain, bnbias, bngain2, bnbias2]\n",
    "print(f\"Total number of parameters: {sum(p.nelement() for p in parameters)}\") # number of parameters in total\n",
    "for p in parameters:\n",
    "  p.requires_grad = True\n",
    "\n",
    "\n"
   ]
  },
  {
   "cell_type": "code",
   "execution_count": null,
   "metadata": {},
   "outputs": [
    {
     "name": "stderr",
     "output_type": "stream",
     "text": [
      "Training Progress:   0%|          | 11/100000 [00:00<29:48, 55.91 steps/s]"
     ]
    },
    {
     "name": "stdout",
     "output_type": "stream",
     "text": [
      "Step 0, Loss: 9.33500862121582\n"
     ]
    },
    {
     "name": "stderr",
     "output_type": "stream",
     "text": [
      "Training Progress:   5%|▌         | 5009/100000 [01:15<21:53, 72.31 steps/s]"
     ]
    },
    {
     "name": "stdout",
     "output_type": "stream",
     "text": [
      "Step 5000, Loss: 2.1451380252838135\n"
     ]
    },
    {
     "name": "stderr",
     "output_type": "stream",
     "text": [
      "Training Progress:  10%|█         | 10013/100000 [02:40<22:04, 67.96 steps/s] "
     ]
    },
    {
     "name": "stdout",
     "output_type": "stream",
     "text": [
      "Step 10000, Loss: 1.7346588373184204\n"
     ]
    },
    {
     "name": "stderr",
     "output_type": "stream",
     "text": [
      "Training Progress:  15%|█▌        | 15011/100000 [03:51<19:33, 72.45 steps/s]"
     ]
    },
    {
     "name": "stdout",
     "output_type": "stream",
     "text": [
      "Step 15000, Loss: 1.464119553565979\n"
     ]
    },
    {
     "name": "stderr",
     "output_type": "stream",
     "text": [
      "Training Progress:  20%|██        | 20011/100000 [05:01<18:39, 71.44 steps/s]"
     ]
    },
    {
     "name": "stdout",
     "output_type": "stream",
     "text": [
      "Step 20000, Loss: 2.1823103427886963\n"
     ]
    },
    {
     "name": "stderr",
     "output_type": "stream",
     "text": [
      "Training Progress:  25%|██▌       | 25008/100000 [06:28<16:52, 74.03 steps/s]"
     ]
    },
    {
     "name": "stdout",
     "output_type": "stream",
     "text": [
      "Step 25000, Loss: 1.5935108661651611\n"
     ]
    },
    {
     "name": "stderr",
     "output_type": "stream",
     "text": [
      "Training Progress:  30%|███       | 30011/100000 [07:43<15:17, 76.28 steps/s]"
     ]
    },
    {
     "name": "stdout",
     "output_type": "stream",
     "text": [
      "Step 30000, Loss: 1.4746524095535278\n"
     ]
    },
    {
     "name": "stderr",
     "output_type": "stream",
     "text": [
      "Training Progress:  35%|███▌      | 35007/100000 [08:56<17:44, 61.06 steps/s]"
     ]
    },
    {
     "name": "stdout",
     "output_type": "stream",
     "text": [
      "Step 35000, Loss: 1.3238582611083984\n"
     ]
    },
    {
     "name": "stderr",
     "output_type": "stream",
     "text": [
      "Training Progress:  40%|████      | 40007/100000 [10:19<19:46, 50.57 steps/s]"
     ]
    },
    {
     "name": "stdout",
     "output_type": "stream",
     "text": [
      "Step 40000, Loss: 2.0624313354492188\n"
     ]
    },
    {
     "name": "stderr",
     "output_type": "stream",
     "text": [
      "Training Progress:  45%|████▌     | 45015/100000 [11:48<12:39, 72.39 steps/s]"
     ]
    },
    {
     "name": "stdout",
     "output_type": "stream",
     "text": [
      "Step 45000, Loss: 1.115250825881958\n"
     ]
    },
    {
     "name": "stderr",
     "output_type": "stream",
     "text": [
      "Training Progress:  50%|█████     | 50005/100000 [12:57<11:01, 75.57 steps/s]"
     ]
    },
    {
     "name": "stdout",
     "output_type": "stream",
     "text": [
      "Step 50000, Loss: 1.4705991744995117\n"
     ]
    },
    {
     "name": "stderr",
     "output_type": "stream",
     "text": [
      "Training Progress:  55%|█████▌    | 55015/100000 [14:07<09:47, 76.56 steps/s]"
     ]
    },
    {
     "name": "stdout",
     "output_type": "stream",
     "text": [
      "Step 55000, Loss: 1.5026473999023438\n"
     ]
    },
    {
     "name": "stderr",
     "output_type": "stream",
     "text": [
      "Training Progress:  60%|██████    | 60010/100000 [15:14<08:38, 77.15 steps/s]"
     ]
    },
    {
     "name": "stdout",
     "output_type": "stream",
     "text": [
      "Step 60000, Loss: 1.2411000728607178\n"
     ]
    },
    {
     "name": "stderr",
     "output_type": "stream",
     "text": [
      "Training Progress:  65%|██████▌   | 65011/100000 [16:22<07:48, 74.74 steps/s]"
     ]
    },
    {
     "name": "stdout",
     "output_type": "stream",
     "text": [
      "Step 65000, Loss: 1.2024791240692139\n"
     ]
    },
    {
     "name": "stderr",
     "output_type": "stream",
     "text": [
      "Training Progress:  70%|███████   | 70012/100000 [17:31<06:33, 76.24 steps/s]"
     ]
    },
    {
     "name": "stdout",
     "output_type": "stream",
     "text": [
      "Step 70000, Loss: 1.5710220336914062\n"
     ]
    },
    {
     "name": "stderr",
     "output_type": "stream",
     "text": [
      "Training Progress:  75%|███████▌  | 75009/100000 [18:39<05:59, 69.50 steps/s]"
     ]
    },
    {
     "name": "stdout",
     "output_type": "stream",
     "text": [
      "Step 75000, Loss: 1.961722731590271\n"
     ]
    },
    {
     "name": "stderr",
     "output_type": "stream",
     "text": [
      "Training Progress:  80%|████████  | 80010/100000 [19:58<04:53, 68.10 steps/s]"
     ]
    },
    {
     "name": "stdout",
     "output_type": "stream",
     "text": [
      "Step 80000, Loss: 1.356242060661316\n"
     ]
    },
    {
     "name": "stderr",
     "output_type": "stream",
     "text": [
      "Training Progress:  85%|████████▌ | 85014/100000 [21:09<03:26, 72.41 steps/s]"
     ]
    },
    {
     "name": "stdout",
     "output_type": "stream",
     "text": [
      "Step 85000, Loss: 1.6090885400772095\n"
     ]
    },
    {
     "name": "stderr",
     "output_type": "stream",
     "text": [
      "Training Progress:  90%|█████████ | 90013/100000 [22:37<02:36, 63.67 steps/s]"
     ]
    },
    {
     "name": "stdout",
     "output_type": "stream",
     "text": [
      "Step 90000, Loss: 1.305763602256775\n"
     ]
    },
    {
     "name": "stderr",
     "output_type": "stream",
     "text": [
      "Training Progress:  95%|█████████▌| 95009/100000 [23:50<01:11, 69.43 steps/s]"
     ]
    },
    {
     "name": "stdout",
     "output_type": "stream",
     "text": [
      "Step 95000, Loss: 1.2014031410217285\n"
     ]
    },
    {
     "name": "stderr",
     "output_type": "stream",
     "text": [
      "Training Progress: 100%|██████████| 100000/100000 [25:03<00:00, 66.51 steps/s]"
     ]
    },
    {
     "name": "stdout",
     "output_type": "stream",
     "text": [
      "Final Loss: 1.9817931652069092\n"
     ]
    },
    {
     "name": "stderr",
     "output_type": "stream",
     "text": [
      "\n"
     ]
    }
   ],
   "source": [
    "max_steps = 100000\n",
    "lossi = []\n",
    "\n",
    "loss_fn = torch.nn.CrossEntropyLoss()\n",
    "# x_t: (batch_size, input_size)\n",
    "# h_prev: (batch_size, hidden_size)\n",
    "for step in tqdm(range(max_steps), desc='Training Progress', unit=' steps'):\n",
    "    minibatch = torch.randint(0, Xtr.shape[0], (batch_size,), generator=g)\n",
    "    Xb, Yb = Xtr[minibatch], Ytr[minibatch]\n",
    "    emb = C[Xb]\n",
    "    embcat = emb.view(emb.shape[0], -1)\n",
    "    Ztpreact = embcat @ Zt1_W + Zt1_B\n",
    "    Htilde = embcat @ Ht1_W + Ht1_B \n",
    "\n",
    "    bnmeani = Ztpreact.mean(0, keepdim=True)\n",
    "    bnstdi = Ztpreact.std(0, keepdim=True)\n",
    "    Ztpreact = bngain * (Ztpreact - bnmeani) / bnstdi + bnbias\n",
    "    with torch.no_grad():\n",
    "        bnmean_running = 0.999 * bnmean_running + 0.001 * bnmeani\n",
    "        bnstd_running = 0.999 * bnstd_running + 0.001 * bnstdi \n",
    "        \n",
    "    Zt =  torch.sigmoid(Ztpreact) \n",
    "    H1_t = (1-Zt) * torch.zeros_like(Zt) + Zt * Htilde # first hidden state | output from the first minGRU layer\n",
    "    \n",
    "    # second layer\n",
    "    Ztpreact2 = H1_t @ Zt2_W + Zt2_B\n",
    "    \n",
    "    bnmeani2 = Ztpreact.mean(0, keepdim=True)\n",
    "    bnstdi2 = Ztpreact.std(0, keepdim=True)\n",
    "    Ztpreact2 = bngain2 * (Ztpreact2 - bnmeani2) / bnstdi2 + bnbias2\n",
    "    with torch.no_grad():\n",
    "        bnmean_running2 = 0.999 * bnmean_running2 + 0.001 * bnmeani2\n",
    "        bnstd_running2 = 0.999 * bnstd_running2 + 0.001 * bnstdi2\n",
    "\n",
    "    Zt2 = torch.sigmoid(Ztpreact2)\n",
    "    Htilde2 = H1_t @ Ht2_W + Ht2_B\n",
    "    H2_t = (1 - Zt2) * H1_t + Zt2 * Htilde2\n",
    "    \n",
    "    # linear layer  \n",
    "    outputs = H2_t @ W + B \n",
    "    loss = loss_fn(outputs.view(-1, vocab_size), Yb)\n",
    "\n",
    "    for p in parameters:\n",
    "        p.grad = None\n",
    "    loss.backward()\n",
    "\n",
    "    lr = 0.1 if step < 50000 else 0.01\n",
    "    for p in parameters:\n",
    "        p.data += -lr * p.grad\n",
    "\n",
    "    if step % 5000 == 0:\n",
    "        tqdm.write(f'Step {step}, Loss: {loss.item()}')\n",
    "    if step % 1000 == 0:\n",
    "        lossi.append(loss.item())\n",
    "\n",
    "print(f\"Final Loss: {lossi[-1]}\")\n"
   ]
  },
  {
   "cell_type": "code",
   "execution_count": 28,
   "metadata": {},
   "outputs": [
    {
     "data": {
      "image/png": "[encoded data removed]",
      "text/plain": [
       "<Figure size 1200x600 with 1 Axes>"
      ]
     },
     "metadata": {},
     "output_type": "display_data"
    }
   ],
   "source": [
    "import matplotlib.pyplot as plt\n",
    "\n",
    "\n",
    "\n",
    "steps = list(range(0, len(lossi) * 1000, 1000))  # Assuming loss is recorded every 1000 steps\n",
    "\n",
    "# Create the plot\n",
    "plt.figure(figsize=(12, 6))\n",
    "plt.plot(steps, lossi, marker='o', color='b', linestyle='-', markersize=5)\n",
    "plt.title('Training Loss every 1000 Steps', fontsize=16)\n",
    "plt.xlabel('Training Steps', fontsize=14)\n",
    "plt.ylabel('Loss', fontsize=14)\n",
    "plt.xlim(0, max(steps))\n",
    "plt.ylim(-1, max(lossi) + 1)\n",
    "plt.grid(True)\n",
    "plt.xticks(fontsize=12)\n",
    "plt.yticks(fontsize=12)\n",
    "plt.axhline(y=min(lossi), color='r', linestyle='--', label='Minimum Loss')\n",
    "plt.legend(fontsize=12)\n",
    "plt.show() "
   ]
  },
  {
   "cell_type": "code",
   "execution_count": null,
   "metadata": {},
   "outputs": [],
   "source": [
    "with torch.no_grad():\n",
    "    emb = C[Xte]\n",
    "    embcat = emb.view(emb.shape[0], -1)\n",
    "    # Forward pass for the first GRU layer\n",
    "    Ztpreact = embcat @ Zt1_W + Zt1_B\n",
    "    Htilde = embcat @ Ht1_W + Ht1_B\n",
    "    # Batch normalization for the first layer\n",
    "    bnmeani = Ztpreact.mean(0, keepdim=True)\n",
    "    bnstdi = Ztpreact.std(0, keepdim=True)\n",
    "    Ztpreact = bngain * (Ztpreact - bnmeani) / bnstdi + bnbias\n",
    "    # Update running statistics\n",
    "    bnmean_running = 0.999 * bnmean_running + 0.001 * bnmeani\n",
    "    bnstd_running = 0.999 * bnstd_running + 0.001 * bnstdi   \n",
    "    Zt = torch.sigmoid(Ztpreact)\n",
    "    H1_t = (1 - Zt) * torch.zeros_like(Zt) + Zt * Htilde  # Using zeros for h_prev initially\n",
    "    # Forward pass for the second GRU layer\n",
    "    Ztpreact2 = H1_t @ Zt2_W + Zt2_B\n",
    "    bnmeani2 = Ztpreact2.mean(0, keepdim=True)\n",
    "    bnstdi2 = Ztpreact2.std(0, keepdim=True)\n",
    "    Ztpreact2 = bngain2 * (Ztpreact2 - bnmeani2) / bnstdi2 + bnbias2\n",
    "    # Update running statistics for second layer\n",
    "    bnmean_running2 = 0.999 * bnmean_running2 + 0.001 * bnmeani2\n",
    "    bnstd_running2 = 0.999 * bnstd_running2 + 0.001 * bnstdi2\n",
    "    Zt2 = torch.sigmoid(Ztpreact2)\n",
    "    Htilde2 = H1_t @ Ht2_W + Ht2_B\n",
    "    H2_t = (1 - Zt2) * H1_t + Zt2 * Htilde2\n",
    "    # Compute outputs\n",
    "    outputs = H2_t @ W + B \n",
    "    # Compute the loss for the entire test dataset\n",
    "    loss_fn = torch.nn.CrossEntropyLoss()\n",
    "    loss = loss_fn(outputs.view(-1, vocab_size), Yte)\n",
    "\n",
    "    print(f\"Test Loss: {loss.item()}\")\n",
    "\n"
   ]
  },
  {
   "cell_type": "code",
   "execution_count": null,
   "metadata": {},
   "outputs": [],
   "source": []
  }
 ],
 "metadata": {
  "kernelspec": {
   "display_name": "Python 3",
   "language": "python",
   "name": "python3"
  },
  "language_info": {
   "codemirror_mode": {
    "name": "ipython",
    "version": 3
   },
   "file_extension": ".py",
   "mimetype": "text/x-python",
   "name": "python",
   "nbconvert_exporter": "python",
   "pygments_lexer": "ipython3",
   "version": "3.12.4"
  }
 },
 "nbformat": 4,
 "nbformat_minor": 2
}
